{
 "cells": [
  {
   "cell_type": "code",
   "execution_count": 58,
   "id": "0c841f40",
   "metadata": {},
   "outputs": [
    {
     "name": "stdout",
     "output_type": "stream",
     "text": [
      "Training set metrics:\n",
      "Mean squared error: 0.08\n",
      "Coefficient of determination (R^2): 1.00\n",
      "\n",
      "Ideal set metrics:\n",
      "Mean squared error: 559.54\n",
      "Coefficient of determination (R^2): -1139.27\n",
      "\n",
      "Test set metrics:\n",
      "Mean squared error: 23262211.51\n",
      "Coefficient of determination (R^2): -0.03\n"
     ]
    }
   ],
   "source": [
    "# Import required libraries\n",
    "import pandas as pd\n",
    "import numpy as np\n",
    "from sklearn.preprocessing import PolynomialFeatures\n",
    "from sklearn.linear_model import LinearRegression\n",
    "from sklearn.metrics import mean_squared_error, r2_score\n",
    "from bokeh.plotting import figure, show\n",
    "from bokeh.layouts import gridplot\n",
    "\n",
    "# Load training dataset\n",
    "train_data = pd.read_csv(\"train.csv\")\n",
    "\n",
    "# Extract input and output variables\n",
    "X_train = train_data.iloc[:, 0:1].values\n",
    "y_train = train_data.iloc[:, 1].values\n",
    "\n",
    "# Load ideal dataset\n",
    "ideal_data = pd.read_csv(\"ideal.csv\")\n",
    "\n",
    "# Extract input and output variables\n",
    "X_ideal = ideal_data.iloc[:, 0:1].values\n",
    "y_ideal = ideal_data.iloc[:, 1].values\n",
    "\n",
    "# Load test dataset\n",
    "test_data = pd.read_csv(\"test.csv\")\n",
    "\n",
    "# Extract input and output variables\n",
    "X_test = test_data.iloc[:, 0:1].values\n",
    "y_test = test_data.iloc[:, 1].values\n",
    "\n",
    "# Perform Polynomial Regression\n",
    "poly_reg = PolynomialFeatures(degree=2)  # You can choose any degree for the polynomial\n",
    "X_train_poly = poly_reg.fit_transform(X_train)\n",
    "poly_reg.fit(X_train_poly, y_train)\n",
    "lin_reg = LinearRegression()\n",
    "lin_reg.fit(X_train_poly, y_train)\n",
    "\n",
    "# Predict using the model\n",
    "y_train_pred = lin_reg.predict(poly_reg.fit_transform(X_train))\n",
    "y_ideal_pred = lin_reg.predict(poly_reg.fit_transform(X_ideal))\n",
    "y_test_pred = lin_reg.predict(poly_reg.fit_transform(X_test))\n",
    "\n",
    "# Evaluate the model\n",
    "print(\"Training set metrics:\")\n",
    "print(\"Mean squared error: %.2f\" % mean_squared_error(y_train, y_train_pred))\n",
    "print(\"Coefficient of determination (R^2): %.2f\" % r2_score(y_train, y_train_pred))\n",
    "print(\"\\nIdeal set metrics:\")\n",
    "print(\"Mean squared error: %.2f\" % mean_squared_error(y_ideal, y_ideal_pred))\n",
    "print(\"Coefficient of determination (R^2): %.2f\" % r2_score(y_ideal, y_ideal_pred))\n",
    "print(\"\\nTest set metrics:\")\n",
    "print(\"Mean squared error: %.2f\" % mean_squared_error(y_test, y_test_pred))\n",
    "print(\"Coefficient of determination (R^2): %.2f\" % r2_score(y_test, y_test_pred))\n",
    "\n",
    "# Create interactive scatter plots with Bokeh\n",
    "train_fig = figure(title='Polynomial Regression (Training set)', x_axis_label='Input variable', y_axis_label='Output variable')\n",
    "train_fig.scatter(X_train.flatten(), y_train, color='red')\n",
    "train_fig.line(X_train.flatten(), y_train_pred, color='blue')\n",
    "\n",
    "ideal_fig = figure(title='Polynomial Regression (Ideal set)', x_axis_label='Input variable', y_axis_label='Output variable')\n",
    "ideal_fig.scatter(X_ideal.flatten(), y_ideal, color='red')\n",
    "ideal_fig.line(X_ideal.flatten(), y_ideal_pred, color='blue')\n",
    "\n",
    "test_fig = figure(title='Polynomial Regression (Test set)', x_axis_label='Input variable', y_axis_label='Output variable')\n",
    "test_fig.scatter(X_test.flatten(), y_test, color='red')\n",
    "test_fig.line(X_test.flatten(), y_test_pred, color='blue')\n",
    "\n",
    "show(gridplot([[train_fig, ideal_fig], [test_fig, None]]))\n"
   ]
  },
  {
   "cell_type": "code",
   "execution_count": null,
   "id": "8671be0a",
   "metadata": {},
   "outputs": [],
   "source": []
  }
 ],
 "metadata": {
  "kernelspec": {
   "display_name": "Python 3 (ipykernel)",
   "language": "python",
   "name": "python3"
  },
  "language_info": {
   "codemirror_mode": {
    "name": "ipython",
    "version": 3
   },
   "file_extension": ".py",
   "mimetype": "text/x-python",
   "name": "python",
   "nbconvert_exporter": "python",
   "pygments_lexer": "ipython3",
   "version": "3.10.9"
  }
 },
 "nbformat": 4,
 "nbformat_minor": 5
}
