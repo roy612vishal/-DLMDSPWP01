{
 "cells": [
  {
   "cell_type": "code",
   "execution_count": 1,
   "id": "376f75c9",
   "metadata": {},
   "outputs": [
    {
     "name": "stdout",
     "output_type": "stream",
     "text": [
      "Accuracy for Error 1: 0.85\n",
      "Accuracy for Error 2: 0.7\n",
      "Accuracy for Error 3: 0.85\n",
      "Accuracy for Error 4: 0.85\n"
     ]
    }
   ],
   "source": [
    "import pandas as pd\n",
    "import numpy as np\n",
    "from sklearn.model_selection import train_test_split\n",
    "from sklearn.linear_model import LinearRegression\n",
    "from sklearn.preprocessing import PolynomialFeatures\n",
    "from bokeh.plotting import figure, output_file, show\n",
    "\n",
    "# Load the dataset\n",
    "dataset = pd.read_csv(\"dataset612.csv\")\n",
    "\n",
    "# Create a binary target variable based on the Deviation column\n",
    "dataset['y'] = (dataset['Deviation (min)'] >= 0.5).astype(int)\n",
    "\n",
    "# Separate the features and target variable\n",
    "X = dataset.drop(['Deviation (min)', 'y'], axis=1)\n",
    "y = dataset['y']\n",
    "\n",
    "# Split the data into training and test sets\n",
    "X_train, X_test, y_train, y_test = train_test_split(X, y, test_size=0.2, random_state=42)\n",
    "\n",
    "# Fit polynomial regression models for all the errors in the dataset\n",
    "for error in ['Error 1', 'Error 2', 'Error 3', 'Error 4']:\n",
    "    # Create polynomial features of degree 2\n",
    "    poly = PolynomialFeatures(degree=2)\n",
    "    X_poly = poly.fit_transform(X_train[[error]])\n",
    "    \n",
    "    # Fit the model on the polynomial features\n",
    "    model = LinearRegression()\n",
    "    model.fit(X_poly, y_train)\n",
    "    \n",
    "    # Make predictions on the test set and calculate accuracy\n",
    "    X_test_poly = poly.transform(X_test[[error]])\n",
    "    y_pred = model.predict(X_test_poly)\n",
    "    accuracy = np.mean((y_pred >= 0.5) == y_test)\n",
    "    print(f\"Accuracy for {error}: {accuracy}\")\n",
    "    \n",
    "    # Visualize the model predictions using Bokeh\n",
    "    p = figure(title=f\"Polynomial Regression for {error}\", x_axis_label=error, y_axis_label=\"y\")\n",
    "    p.circle(X_test[error], y_test, size=10, alpha=0.5, color=\"blue\", legend_label=\"Actual\")\n",
    "    p.circle(X_test[error], y_pred, size=10, alpha=0.5, color=\"green\", legend_label=\"Predicted\")\n",
    "    output_file(f\"{error}.html\")\n",
    "    show(p)\n"
   ]
  },
  {
   "cell_type": "code",
   "execution_count": null,
   "id": "7e7f7a82",
   "metadata": {},
   "outputs": [],
   "source": []
  }
 ],
 "metadata": {
  "kernelspec": {
   "display_name": "Python 3 (ipykernel)",
   "language": "python",
   "name": "python3"
  },
  "language_info": {
   "codemirror_mode": {
    "name": "ipython",
    "version": 3
   },
   "file_extension": ".py",
   "mimetype": "text/x-python",
   "name": "python",
   "nbconvert_exporter": "python",
   "pygments_lexer": "ipython3",
   "version": "3.10.9"
  }
 },
 "nbformat": 4,
 "nbformat_minor": 5
}
